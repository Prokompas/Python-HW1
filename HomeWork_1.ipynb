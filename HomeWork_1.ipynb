{
 "cells": [
  {
   "cell_type": "markdown",
   "id": "63240bd2",
   "metadata": {},
   "source": [
    "# Домашнее задание 1"
   ]
  },
  {
   "cell_type": "markdown",
   "id": "171fe393",
   "metadata": {},
   "source": [
    "### 1. Даны 2 строки long_phrase и short_phrase \n",
    "Напишите код, который проверяет действительно ли длинная фраза long_phrase длиннее короткой short_phrase. Выводит True или False в зависимости от результата сравнения."
   ]
  },
  {
   "cell_type": "code",
   "execution_count": 5,
   "id": "b460cbd2",
   "metadata": {},
   "outputs": [],
   "source": [
    "long_phrase = 'Насколько проще было бы писать программы, если бы не заказчики'\n",
    "short_phrase = '640 б должно хватить для любых задач. Силл Вейтс (по легенде)'"
   ]
  },
  {
   "cell_type": "code",
   "execution_count": 6,
   "id": "8b6e8867",
   "metadata": {},
   "outputs": [
    {
     "name": "stdout",
     "output_type": "stream",
     "text": [
      "True\n"
     ]
    }
   ],
   "source": [
    "print(len(long_phrase) > len(short_phrase))\n"
   ]
  },
  {
   "cell_type": "markdown",
   "id": "5f2a62ee",
   "metadata": {},
   "source": [
    "### 2. Дана строка текста \n",
    "Определите какая из двух букв встречается в нем чаще - 'а' или 'и'."
   ]
  },
  {
   "cell_type": "code",
   "execution_count": 7,
   "id": "a52c541d",
   "metadata": {},
   "outputs": [],
   "source": [
    "text = 'если программист в 9-00 утра на работе, значит, он там и ночевал'"
   ]
  },
  {
   "cell_type": "code",
   "execution_count": 8,
   "id": "e31ebbf9",
   "metadata": {},
   "outputs": [
    {
     "name": "stdout",
     "output_type": "stream",
     "text": [
      "\"а\" встречается чаще\n"
     ]
    }
   ],
   "source": [
    "if text.count('а') > text.count('и'):\n",
    "    print('\"а\" встречается чаще')\n",
    "else:\n",
    "    print('\"и\" встречается чаще')"
   ]
  },
  {
   "cell_type": "markdown",
   "id": "4f76c17a",
   "metadata": {},
   "source": [
    "### 3. Перевод байт в килобайты \n",
    "Дано значение объема файла в байтах. Напишите перевод этого значения в мегабайты в формате:\n",
    "'Объем файла равен 213.68Mb'"
   ]
  },
  {
   "cell_type": "code",
   "execution_count": 9,
   "id": "4a2a047d",
   "metadata": {},
   "outputs": [],
   "source": [
    "v = 12754 #объем файла в байтах"
   ]
  },
  {
   "cell_type": "code",
   "execution_count": 10,
   "id": "490587fc",
   "metadata": {},
   "outputs": [
    {
     "data": {
      "text/plain": [
       "'Объем файла равен 12.46Mb'"
      ]
     },
     "execution_count": 10,
     "metadata": {},
     "output_type": "execute_result"
    }
   ],
   "source": [
    "f'Объем файла равен {(v/1024):.2f}Mb'"
   ]
  },
  {
   "cell_type": "markdown",
   "id": "c5528ac5",
   "metadata": {},
   "source": [
    "### 4. Синус\n",
    "Выведите на экран значение синуса 30 градусов с помощью метода math.sin."
   ]
  },
  {
   "cell_type": "code",
   "execution_count": 11,
   "id": "c0119639",
   "metadata": {},
   "outputs": [],
   "source": [
    "import math"
   ]
  },
  {
   "cell_type": "code",
   "execution_count": 17,
   "id": "ecbaf3f6",
   "metadata": {},
   "outputs": [
    {
     "data": {
      "text/plain": [
       "0.49999999999999994"
      ]
     },
     "execution_count": 17,
     "metadata": {},
     "output_type": "execute_result"
    }
   ],
   "source": [
    "radian = 30 #30 градусов\n",
    "math.sin(math.pi / 6)"
   ]
  },
  {
   "cell_type": "code",
   "execution_count": 18,
   "id": "00c4c0b9",
   "metadata": {},
   "outputs": [
    {
     "data": {
      "text/plain": [
       "'Синус 30 градусов = 0.500'"
      ]
     },
     "execution_count": 18,
     "metadata": {},
     "output_type": "execute_result"
    }
   ],
   "source": [
    "f'Синус 30 градусов = {math.sin(math.radians(radian)):.3f}'"
   ]
  },
  {
   "cell_type": "code",
   "execution_count": 19,
   "id": "ffaaeb57",
   "metadata": {},
   "outputs": [
    {
     "data": {
      "text/plain": [
       "0.30000000000000004"
      ]
     },
     "execution_count": 19,
     "metadata": {},
     "output_type": "execute_result"
    }
   ],
   "source": [
    "0.1 + 0.2"
   ]
  },
  {
   "cell_type": "markdown",
   "id": "e05f79a2",
   "metadata": {},
   "source": [
    "### 5. Множественное присваивание\n",
    "В переменных a и b записаны 2 различных числа. Необходимо написать код, который меняет значения a и b местами без использования третьей переменной."
   ]
  },
  {
   "cell_type": "code",
   "execution_count": 20,
   "id": "acc2db0a",
   "metadata": {},
   "outputs": [],
   "source": [
    "a = 10\n",
    "b = 20\n"
   ]
  },
  {
   "cell_type": "code",
   "execution_count": 21,
   "id": "c38b47b7",
   "metadata": {},
   "outputs": [
    {
     "data": {
      "text/plain": [
       "'a = 20 b = 10'"
      ]
     },
     "execution_count": 21,
     "metadata": {},
     "output_type": "execute_result"
    }
   ],
   "source": [
    "a, b = b, a\n",
    "f'a = {a} b = {b}'"
   ]
  },
  {
   "cell_type": "markdown",
   "id": "68989135",
   "metadata": {},
   "source": [
    "### 6. Перевод числа из двоичной системы в десятичную\n",
    "Дано число в двоичной системе счисления: num=10011. Напишите алгоритм перевода этого числа в привычную нам десятичную систему счисления.\n",
    "Возможно, вам понадобится цикл прохождения всех целых чисел от 0 до m:\n",
    "for n in range(m)"
   ]
  },
  {
   "cell_type": "code",
   "execution_count": 35,
   "id": "36ef1d37",
   "metadata": {},
   "outputs": [],
   "source": [
    "num = str(10011)"
   ]
  },
  {
   "cell_type": "code",
   "execution_count": 36,
   "id": "c2004957",
   "metadata": {},
   "outputs": [],
   "source": [
    "n = len(num)\n",
    "num_in_dec = 0"
   ]
  },
  {
   "cell_type": "code",
   "execution_count": 39,
   "id": "0160a475",
   "metadata": {},
   "outputs": [
    {
     "data": {
      "text/plain": [
       "'10011 в десятичной СС = 19'"
      ]
     },
     "execution_count": 39,
     "metadata": {},
     "output_type": "execute_result"
    }
   ],
   "source": [
    "for i in range (0, n):\n",
    "    num_in_dec += int(num[i]) *(2 ** (n - i - 1))\n",
    "f'{num} в десятичной СС = {num_in_dec}'"
   ]
  },
  {
   "cell_type": "code",
   "execution_count": null,
   "id": "a18697ea",
   "metadata": {},
   "outputs": [],
   "source": []
  }
 ],
 "metadata": {
  "kernelspec": {
   "display_name": "Python 3 (ipykernel)",
   "language": "python",
   "name": "python3"
  },
  "language_info": {
   "codemirror_mode": {
    "name": "ipython",
    "version": 3
   },
   "file_extension": ".py",
   "mimetype": "text/x-python",
   "name": "python",
   "nbconvert_exporter": "python",
   "pygments_lexer": "ipython3",
   "version": "3.9.12"
  }
 },
 "nbformat": 4,
 "nbformat_minor": 5
}
